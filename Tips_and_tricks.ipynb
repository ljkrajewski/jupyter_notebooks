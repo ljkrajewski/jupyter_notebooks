{
  "nbformat": 4,
  "nbformat_minor": 0,
  "metadata": {
    "colab": {
      "provenance": [],
      "authorship_tag": "ABX9TyNKNFlL+O2qFt5Bd+16tQA8",
      "include_colab_link": true
    },
    "kernelspec": {
      "name": "python3",
      "display_name": "Python 3"
    },
    "language_info": {
      "name": "python"
    }
  },
  "cells": [
    {
      "cell_type": "markdown",
      "metadata": {
        "id": "view-in-github",
        "colab_type": "text"
      },
      "source": [
        "<a href=\"https://colab.research.google.com/github/ljkrajewski/jupyter_notebooks/blob/main/Tips_and_tricks.ipynb\" target=\"_parent\"><img src=\"https://colab.research.google.com/assets/colab-badge.svg\" alt=\"Open In Colab\"/></a>"
      ]
    },
    {
      "cell_type": "markdown",
      "source": [
        "# Google Colab Tips and Tricks\n",
        "A collection of code snippets for common actions."
      ],
      "metadata": {
        "id": "rubckJr3V83P"
      }
    },
    {
      "cell_type": "code",
      "execution_count": null,
      "metadata": {
        "id": "k7jkOeDD_h_A",
        "cellView": "form"
      },
      "outputs": [],
      "source": [
        "#@title Google reverse proxy\n",
        "LISTENING_PORT = 5000\n",
        "from google.colab.output import eval_js\n",
        "print(eval_js(\"google.colab.kernel.proxyPort(\" + str(LISTENING_PORT) + \")\"))"
      ]
    },
    {
      "cell_type": "code",
      "source": [
        "#@title Connect Google Drive\n",
        "from google.colab import drive\n",
        "from IPython.display import clear_output\n",
        "import ipywidgets as widgets\n",
        "import os\n",
        "\n",
        "def inf(msg, style, wdth): inf = widgets.Button(description=msg, disabled=True, button_style=style, layout=widgets.Layout(min_width=wdth));display(inf)\n",
        "Shared_Drive = \"\" #@param {type:\"string\"}\n",
        "#@markdown - Leave empty if you're not using a shared drive\n",
        "\n",
        "print(\"[0;33mConnecting...\")\n",
        "drive.mount('/content/gdrive')\n",
        "\n",
        "if Shared_Drive!=\"\" and os.path.exists(\"/content/gdrive/Shareddrives\"):\n",
        "  mainpth=\"Shareddrives/\"+Shared_Drive\n",
        "else:\n",
        "  mainpth=\"MyDrive\"\n",
        "\n",
        "clear_output()\n",
        "inf('\\u2714 Done','success', '50px')\n"
      ],
      "metadata": {
        "cellView": "form",
        "id": "02EZ7JgFGYrb"
      },
      "execution_count": null,
      "outputs": []
    },
    {
      "cell_type": "code",
      "source": [
        "#@title Uploading files from your local file system\n",
        "from google.colab import files\n",
        "\n",
        "uploaded = files.upload()\n",
        "\n",
        "for fn in uploaded.keys():\n",
        "  print('User uploaded file \"{name}\" with length {length} bytes'.format(\n",
        "      name=fn, length=len(uploaded[fn])))"
      ],
      "metadata": {
        "cellView": "form",
        "id": "sx7Dk2jzV3h6"
      },
      "execution_count": null,
      "outputs": []
    },
    {
      "cell_type": "code",
      "source": [
        "#@title Write a multiline file\n",
        "CONTENTS=\"\"\"\n",
        "::: Put your stuff here :::\n",
        "\"\"\"\n",
        "with open(\"your/filename/here\", \"w\") as f:\n",
        "  f.write(CONTENTS)\n"
      ],
      "metadata": {
        "cellView": "form",
        "id": "d8jnn96R_sZO"
      },
      "execution_count": null,
      "outputs": []
    },
    {
      "cell_type": "code",
      "source": [
        "#@title Fork a background process\n",
        "import multiprocessing\n",
        "import time\n",
        "import os\n",
        "import signal\n",
        "\n",
        "# Function to run the Flask app\n",
        "def run_flask_app():\n",
        "    print(f\"Running Flask app on PID {os.getpid()}\")\n",
        "    os.system('python app.py')\n",
        "\n",
        "# Function to identify & print a forked process's\n",
        "def info(title):\n",
        "    print(title)\n",
        "    print('module name:', __name__)\n",
        "    print('parent process:', os.getppid())\n",
        "    print('process id:', os.getpid())\n",
        "\n",
        "# Start the Flask app in a separate process\n",
        "flask_process = multiprocessing.Process(target=run_flask_app)\n",
        "flask_process.start()\n",
        "\n",
        "# Give the Flask app a few seconds to start\n",
        "time.sleep(5)"
      ],
      "metadata": {
        "cellView": "form",
        "id": "7ZyMiQZXAJ50"
      },
      "execution_count": null,
      "outputs": []
    },
    {
      "cell_type": "code",
      "source": [
        "#@title Install and start a terminal\n",
        "\n",
        "!pip install colab-xterm #https://pypi.org/project/colab-xterm/\n",
        "%load_ext colabxterm\n",
        "%xterm"
      ],
      "metadata": {
        "cellView": "form",
        "id": "F1vg1XxjUpdv"
      },
      "execution_count": null,
      "outputs": []
    },
    {
      "cell_type": "code",
      "source": [
        "#@title Download an image from URL and display it\n",
        "\n",
        "import requests\n",
        "from PIL import Image\n",
        "from io import BytesIO\n",
        "\n",
        "response = requests.get(\"https://encrypted-tbn0.gstatic.com/images?q=tbn:ANd9GcRLPFJ692kBEfUhGb7ezY7wEdb6-vvBL8vd2A&s\")\n",
        "img = Image.open(BytesIO(response.content))\n",
        "display(img)"
      ],
      "metadata": {
        "cellView": "form",
        "id": "xkW-vUbPS0wu"
      },
      "execution_count": null,
      "outputs": []
    },
    {
      "cell_type": "code",
      "source": [
        "#@title Run OCR (character recognition) on a downloaded image\n",
        "#@markdown Start with downloading the image (see _Download an image from URL and display it_ above)\n",
        "\n",
        "!sudo apt install tesseract-ocr\n",
        "!pip install pytesseract\n",
        "\n",
        "import requests\n",
        "from io import BytesIO\n",
        "import pytesseract\n",
        "import shutil\n",
        "import os\n",
        "import random\n",
        "try:\n",
        " from PIL import Image\n",
        "except ImportError:\n",
        " import Image\n",
        "\n",
        "def ocr_image(url):\n",
        "# https://bhadreshpsavani.medium.com/how-to-use-tesseract-library-for-ocr-in-google-colab-notebook-5da5470e4fe0\n",
        "# Input:  URL of image to download\n",
        "# Output: String of any text found (or empty string if no text found), or None-type if either the GET\n",
        "#         failed or no URL is passed to the function.\n",
        "    if url:\n",
        "      response = requests.get(url)\n",
        "      if response.status_code == 200:\n",
        "          img = Image.open(BytesIO(response.content))\n",
        "          text = pytesseract.image_to_string(img)\n",
        "          return text\n",
        "      else:\n",
        "          print(f'Failed get: {url}\\t Error code: {response.status_code}')\n",
        "          return None\n",
        "    else:\n",
        "      print('ocr_image: No url')\n",
        "      return None\n",
        "\n",
        "# Example usage\n",
        "answer = ocr_image(\"https://i.sstatic.net/IvV2y.png\")\n",
        "print('')\n",
        "if type(answer) == None:\n",
        "  print(\"No text found\")\n",
        "else:\n",
        "  print(answer)"
      ],
      "metadata": {
        "id": "OoO25ngaC9Cs",
        "cellView": "form"
      },
      "execution_count": null,
      "outputs": []
    },
    {
      "cell_type": "markdown",
      "source": [
        "#### Video summaries\n",
        "To do:\n",
        "- (Getting Started with OpenCV)[https://colab.research.google.com/github/farrokhkarimi/OpenCV/blob/master/Getting_Started_with_OpenCV.ipynb]\n",
        "- (Quick Start on Clarifai Image Predictions)[https://colab.research.google.com/github/Clarifai/colab-notebooks/blob/main/general/Quick_Start_on_Clarifai_Image_Predictions.ipynb]\n",
        "-"
      ],
      "metadata": {
        "id": "DopGqwUkq2rL"
      }
    }
  ]
}