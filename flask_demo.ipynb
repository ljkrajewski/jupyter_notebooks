{
  "nbformat": 4,
  "nbformat_minor": 0,
  "metadata": {
    "colab": {
      "provenance": [],
      "authorship_tag": "ABX9TyN1JAQaIF+H/M9IWWMtZYEa",
      "include_colab_link": true
    },
    "kernelspec": {
      "name": "python3",
      "display_name": "Python 3"
    },
    "language_info": {
      "name": "python"
    }
  },
  "cells": [
    {
      "cell_type": "markdown",
      "metadata": {
        "id": "view-in-github",
        "colab_type": "text"
      },
      "source": [
        "<a href=\"https://colab.research.google.com/github/ljkrajewski/jupyter_notebooks/blob/main/flask_demo.ipynb\" target=\"_parent\"><img src=\"https://colab.research.google.com/assets/colab-badge.svg\" alt=\"Open In Colab\"/></a>"
      ]
    },
    {
      "cell_type": "code",
      "execution_count": null,
      "metadata": {
        "id": "hZ3iE0WooxMZ"
      },
      "outputs": [],
      "source": [
        "LISTENING_PORT=5000\n",
        "\n",
        "\"\"\"\n",
        "from google.colab.output import eval_js\n",
        "print(eval_js(\"google.colab.kernel.proxyPort(LISTENING_PORT)\"))\n",
        "\"\"\"\n",
        "\n",
        "\"\"\"\n",
        "#\"google.colab.kernel.proxyPort\" doesn't seem to be working. Here's an option using ngrok\n",
        "!pip install pyngrok\n",
        "from pyngrok import ngrok\n",
        "from google.colab import userdata\n",
        "# Terminate open tunnels if exist\n",
        "ngrok.kill()\n",
        "\n",
        "# Setting the authtoken (optional)\n",
        "# Get your authtoken from https://dashboard.ngrok.com/auth\n",
        "ngrok.set_auth_token(userdata.get('NGROK_TOKEN'))\n",
        "public_url = ngrok.connect(LISTENING_PORT).public_url\n",
        "print(\" * ngrok tunnel \\\"{}\\\" -> \\\"http://127.0.0.1:{}\\\"\".format(public_url, LISTENING_PORT))\n",
        "\"\"\"\n",
        "\n",
        "\"\"\"\n",
        "import multiprocessing\n",
        "import os\n",
        "import time\n",
        "\n",
        "def run_serveo():\n",
        "    print(f\"Running serveo on PID {os.getpid()}\")\n",
        "    global LISTENING_PORT\n",
        "    ALIAS=\"flask-test\"\n",
        "    print(f\"Proxy link: http://{ALIAS}.serveo.net/\")\n",
        "    os.system('ssh -o \"StrictHostKeyChecking no\" -R $ALIAS:$LISTENING_PORT:localhost:80 serveo.net')\n",
        "\n",
        "serveo_process = multiprocessing.Process(target=run_serveo)\n",
        "serveo_process.start()\n",
        "time.sleep(10)\n",
        "print(f\"PID of serveo process: {serveo_process.pid}\")\n",
        "\"\"\""
      ]
    },
    {
      "cell_type": "code",
      "source": [
        "from flask import Flask\n",
        "app = Flask(__name__)\n",
        "@app.route(\"/\")\n",
        "def home():\n",
        "    return \"Hello, World!\"\n",
        "\n",
        "if __name__ == \"__main__\":\n",
        "    app.run()"
      ],
      "metadata": {
        "id": "WYCUkA4qspdH"
      },
      "execution_count": null,
      "outputs": []
    }
  ]
}