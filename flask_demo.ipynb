{
  "nbformat": 4,
  "nbformat_minor": 0,
  "metadata": {
    "colab": {
      "provenance": [],
      "authorship_tag": "ABX9TyNGnbHekcnD4xCiKFnwVSZH",
      "include_colab_link": true
    },
    "kernelspec": {
      "name": "python3",
      "display_name": "Python 3"
    },
    "language_info": {
      "name": "python"
    }
  },
  "cells": [
    {
      "cell_type": "markdown",
      "metadata": {
        "id": "view-in-github",
        "colab_type": "text"
      },
      "source": [
        "<a href=\"https://colab.research.google.com/github/ljkrajewski/jupyter_notebooks/blob/main/flask_demo.ipynb\" target=\"_parent\"><img src=\"https://colab.research.google.com/assets/colab-badge.svg\" alt=\"Open In Colab\"/></a>"
      ]
    },
    {
      "cell_type": "code",
      "execution_count": 2,
      "metadata": {
        "colab": {
          "base_uri": "https://localhost:8080/",
          "height": 87
        },
        "id": "hZ3iE0WooxMZ",
        "outputId": "00cb1588-6318-4dfb-d30d-e7769f0d2912"
      },
      "outputs": [
        {
          "output_type": "stream",
          "name": "stdout",
          "text": [
            "https://xxxymc2r53b-496ff2e9c6d22116-5000-colab.googleusercontent.com/\n"
          ]
        },
        {
          "output_type": "execute_result",
          "data": {
            "text/plain": [
              "'\\nimport multiprocessing\\nimport os\\nimport time\\n\\ndef run_serveo():\\n    print(f\"Running serveo on PID {os.getpid()}\")\\n    global LISTENING_PORT\\n    ALIAS=\"flask-test\"\\n    print(f\"Proxy link: http://{ALIAS}.serveo.net/\")\\n    os.system(\\'ssh -o \"StrictHostKeyChecking no\" -R $ALIAS:$LISTENING_PORT:localhost:80 serveo.net\\')\\n\\nserveo_process = multiprocessing.Process(target=run_serveo)\\nserveo_process.start()\\ntime.sleep(10)\\nprint(f\"PID of serveo process: {serveo_process.pid}\")\\n'"
            ],
            "application/vnd.google.colaboratory.intrinsic+json": {
              "type": "string"
            }
          },
          "metadata": {},
          "execution_count": 2
        }
      ],
      "source": [
        "LISTENING_PORT=5000\n",
        "\n",
        "#\"\"\"\n",
        "from google.colab.output import eval_js\n",
        "print(eval_js(f\"google.colab.kernel.proxyPort({LISTENING_PORT})\"))\n",
        "#\"\"\"\n",
        "\n",
        "\"\"\"\n",
        "#\"google.colab.kernel.proxyPort\" doesn't seem to be working. Here's an option using ngrok\n",
        "!pip install pyngrok\n",
        "from pyngrok import ngrok\n",
        "from google.colab import userdata\n",
        "# Terminate open tunnels if exist\n",
        "ngrok.kill()\n",
        "\n",
        "# Setting the authtoken (optional)\n",
        "# Get your authtoken from https://dashboard.ngrok.com/auth\n",
        "ngrok.set_auth_token(userdata.get('NGROK_TOKEN'))\n",
        "public_url = ngrok.connect(LISTENING_PORT).public_url\n",
        "print(\" * ngrok tunnel \\\"{}\\\" -> \\\"http://127.0.0.1:{}\\\"\".format(public_url, LISTENING_PORT))\n",
        "\"\"\"\n",
        "\n",
        "\"\"\"\n",
        "import multiprocessing\n",
        "import os\n",
        "import time\n",
        "\n",
        "def run_serveo():\n",
        "    print(f\"Running serveo on PID {os.getpid()}\")\n",
        "    global LISTENING_PORT\n",
        "    ALIAS=\"flask-test\"\n",
        "    print(f\"Proxy link: http://{ALIAS}.serveo.net/\")\n",
        "    os.system('ssh -o \"StrictHostKeyChecking no\" -R $ALIAS:$LISTENING_PORT:localhost:80 serveo.net')\n",
        "\n",
        "serveo_process = multiprocessing.Process(target=run_serveo)\n",
        "serveo_process.start()\n",
        "time.sleep(10)\n",
        "print(f\"PID of serveo process: {serveo_process.pid}\")\n",
        "\"\"\""
      ]
    },
    {
      "cell_type": "code",
      "source": [
        "from flask import Flask\n",
        "app = Flask(__name__)\n",
        "@app.route(\"/\")\n",
        "def home():\n",
        "    return \"Hello, World!\"\n",
        "\n",
        "if __name__ == \"__main__\":\n",
        "    app.run()"
      ],
      "metadata": {
        "colab": {
          "base_uri": "https://localhost:8080/"
        },
        "id": "WYCUkA4qspdH",
        "outputId": "ddba68f3-965c-46ab-c0bb-4024cf419016"
      },
      "execution_count": null,
      "outputs": [
        {
          "output_type": "stream",
          "name": "stdout",
          "text": [
            " * Serving Flask app '__main__'\n",
            " * Debug mode: off\n"
          ]
        },
        {
          "output_type": "stream",
          "name": "stderr",
          "text": [
            "INFO:werkzeug:\u001b[31m\u001b[1mWARNING: This is a development server. Do not use it in a production deployment. Use a production WSGI server instead.\u001b[0m\n",
            " * Running on http://127.0.0.1:5000\n",
            "INFO:werkzeug:\u001b[33mPress CTRL+C to quit\u001b[0m\n"
          ]
        }
      ]
    }
  ]
}