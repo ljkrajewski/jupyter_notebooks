{
  "nbformat": 4,
  "nbformat_minor": 0,
  "metadata": {
    "colab": {
      "provenance": [],
      "authorship_tag": "ABX9TyP56EDA9Fwb+PLCEHpG9vkG",
      "include_colab_link": true
    },
    "kernelspec": {
      "name": "python3",
      "display_name": "Python 3"
    },
    "language_info": {
      "name": "python"
    }
  },
  "cells": [
    {
      "cell_type": "markdown",
      "metadata": {
        "id": "view-in-github",
        "colab_type": "text"
      },
      "source": [
        "<a href=\"https://colab.research.google.com/github/ljkrajewski/jupyter_notebooks/blob/main/xterm_w_github.ipynb\" target=\"_parent\"><img src=\"https://colab.research.google.com/assets/colab-badge.svg\" alt=\"Open In Colab\"/></a>"
      ]
    },
    {
      "cell_type": "markdown",
      "source": [
        "# *Protip*: Don't use 'Run All.' Run each cell as needed."
      ],
      "metadata": {
        "id": "QU5LzyS0F4gW"
      }
    },
    {
      "cell_type": "code",
      "source": [
        "#@title Create SSH key & known hosts file (for github if you're working on a repo)\n",
        "#@markdown Copy the public key below to the SSH key settings in Github.\n",
        "\n",
        "!git config --global user.email \"leo.krajewski@aol.com\"\n",
        "!git config --global user.name \"Leo Krajewski\"\n",
        "!mkdir ~/.ssh\n",
        "!ssh-keygen -q -t ed25519 -N '' -f ~/.ssh/id_ed25519 <<<y >/dev/null 2>&1\n",
        "!ssh-keyscan -H github.com > ~/.ssh/known_hosts 2> /dev/null\n",
        "!chmod 600 ~/.ssh/known_hosts\n",
        "!cat ~/.ssh/id_ed25519.pub"
      ],
      "metadata": {
        "id": "JsSSudariK24",
        "cellView": "form"
      },
      "execution_count": null,
      "outputs": []
    },
    {
      "cell_type": "markdown",
      "source": [
        "# <font color=\"red\" align=\"center\">=== STOP HERE!!! ===</font> <br><hr> You ***must*** have your SSH public key (from above) pasted into [Github](https://github.com/settings/keys) before you continue."
      ],
      "metadata": {
        "id": "xvmKDKsXSmmi"
      }
    },
    {
      "cell_type": "code",
      "source": [
        "#@title Connect Google Drive\n",
        "from google.colab import drive\n",
        "from IPython.display import clear_output\n",
        "import ipywidgets as widgets\n",
        "import os\n",
        "\n",
        "def inf(msg, style, wdth): inf = widgets.Button(description=msg, disabled=True, button_style=style, layout=widgets.Layout(min_width=wdth));display(inf)\n",
        "Shared_Drive = \"\" #@param {type:\"string\"}\n",
        "#@markdown - Leave empty if you're not using a shared drive\n",
        "\n",
        "print(\"[0;33mConnecting...\")\n",
        "drive.mount('/content/gdrive')\n",
        "\n",
        "if Shared_Drive!=\"\" and os.path.exists(\"/content/gdrive/Shareddrives\"):\n",
        "  mainpth=\"Shareddrives/\"+Shared_Drive\n",
        "else:\n",
        "  mainpth=\"MyDrive\"\n",
        "\n",
        "clear_output()\n",
        "inf('\\u2714 Done','success', '50px')"
      ],
      "metadata": {
        "cellView": "form",
        "id": "f3OKehwkGyb0"
      },
      "execution_count": null,
      "outputs": []
    },
    {
      "cell_type": "code",
      "source": [
        "#@title Clone Git repos (skip if you don't need this)\n",
        "\n",
        "#@markdown Enter the repo you want to clone.\n",
        "git_repo = \"git@github.com:ljkrajewski/echoes_of_orpheus.git\" #@param {type:\"string\"}\n",
        "!apt-get install git-lfs\n",
        "!git lfs install\n",
        "!git clone $git_repo\n",
        "\n",
        "#@markdown Edit this cell to install any needed packages.\n",
        "#!apt install python3.10-venv\n",
        "#!pip3 install pipx\n",
        "#!pipx ensurepath\n",
        "#!pipx install ghunt"
      ],
      "metadata": {
        "id": "qctK-6gYN_7O",
        "cellView": "form"
      },
      "execution_count": null,
      "outputs": []
    },
    {
      "cell_type": "code",
      "source": [
        "#@title Uploading files from your local file system (skip if you don't need this)\n",
        "from google.colab import files\n",
        "\n",
        "uploaded = files.upload()\n",
        "\n",
        "for fn in uploaded.keys():\n",
        "  print('User uploaded file \"{name}\" with length {length} bytes'.format(\n",
        "      name=fn, length=len(uploaded[fn])))"
      ],
      "metadata": {
        "cellView": "form",
        "id": "NZxF6BaQGn4d"
      },
      "execution_count": null,
      "outputs": []
    },
    {
      "cell_type": "code",
      "source": [
        "#@title Create text files from scratch\n",
        "#@markdown Expand to edit the file and filename\n",
        "\n",
        "filename = '/contents/myfile.txt'\n",
        "\n",
        "contents = \"\"\"\n",
        "Stuff in your file.\n",
        "\"\"\"\n",
        "\n",
        "with open(filename, 'w') as f:\n",
        "  f.write(contents)"
      ],
      "metadata": {
        "cellView": "form",
        "id": "35dWRnOIcqUX"
      },
      "execution_count": null,
      "outputs": []
    },
    {
      "cell_type": "code",
      "source": [
        "#@title Install new conda environment (skip if you don't need this)\n",
        "!pip install -q condacolab\n",
        "import condacolab\n",
        "condacolab.install()\n",
        "!conda --version"
      ],
      "metadata": {
        "cellView": "form",
        "id": "mVvZucecwnp7"
      },
      "execution_count": null,
      "outputs": []
    },
    {
      "cell_type": "code",
      "source": [
        "#@title Google reverse proxy (skip if you don't need this)\n",
        "LISTENING_PORT = 3000  #@param {type:\"integer\"}\n",
        "from google.colab.output import eval_js\n",
        "print(eval_js(\"google.colab.kernel.proxyPort(\" + str(LISTENING_PORT) + \")\"))"
      ],
      "metadata": {
        "cellView": "form",
        "id": "8kaP_34z_wJF"
      },
      "execution_count": null,
      "outputs": []
    },
    {
      "cell_type": "code",
      "source": [
        "#@title Install and start ollama (running locally)\n",
        "LLM_MODEL = \"HammerAI/openhermes-2.5-mistral\" #@param [\"HammerAI/openhermes-2.5-mistral\"]\n",
        "import multiprocessing\n",
        "import os\n",
        "import time\n",
        "\n",
        "def run_ollama():\n",
        "    print(f\"Running ollama on PID {os.getpid()}\")\n",
        "    os.system('ollama serve')\n",
        "\n",
        "!curl -fsSL https://ollama.com/install.sh | sh\n",
        "ollama_process = multiprocessing.Process(target=run_ollama)\n",
        "ollama_process.start()\n",
        "time.sleep(10)\n",
        "!ollama pull \"$LLM_MODEL\"\n",
        "!curl http://localhost:11434/"
      ],
      "metadata": {
        "cellView": "form",
        "id": "ToM-0Si3S7Do"
      },
      "execution_count": null,
      "outputs": []
    },
    {
      "cell_type": "code",
      "source": [
        "#@title Install and start xterm\n",
        "\n",
        "!pip install colab-xterm #https://pypi.org/project/colab-xterm/\n",
        "%load_ext colabxterm\n",
        "%xterm"
      ],
      "metadata": {
        "id": "i_tM4dUjhE9C",
        "cellView": "form"
      },
      "execution_count": null,
      "outputs": []
    }
  ]
}