{
  "nbformat": 4,
  "nbformat_minor": 0,
  "metadata": {
    "colab": {
      "provenance": [],
      "gpuType": "T4",
      "include_colab_link": true
    },
    "kernelspec": {
      "name": "python3",
      "display_name": "Python 3"
    },
    "language_info": {
      "name": "python"
    },
    "accelerator": "GPU"
  },
  "cells": [
    {
      "cell_type": "markdown",
      "metadata": {
        "id": "view-in-github",
        "colab_type": "text"
      },
      "source": [
        "<a href=\"https://colab.research.google.com/github/ljkrajewski/jupyter_notebooks/blob/main/ollama/ollama_w_gradio_and_memory.ipynb\" target=\"_parent\"><img src=\"https://colab.research.google.com/assets/colab-badge.svg\" alt=\"Open In Colab\"/></a>"
      ]
    },
    {
      "cell_type": "code",
      "source": [
        "!pip install -q gradio\n",
        "!pip install python-dotenv\n",
        "\n",
        "import gradio as gr\n",
        "import re\n",
        "from google.colab import files\n",
        "import multiprocessing\n",
        "import os\n",
        "import time\n",
        "import requests\n",
        "import json\n",
        "import nltk\n",
        "nltk.download('all')\n",
        "\n",
        "#@title Defined globals\n",
        "#@markdown **Common models**\n",
        "#@markdown - \"llama3\"\n",
        "#@markdown - \"llama2-uncensored\"\n",
        "#@markdown - \"dolphin-mistral\"\n",
        "#@markdown - \"codellama:34b\"\n",
        "#@markdown - \"qwen2.5:32b\" _[Closest to gpt-4o-mini. Uses 20GB](https://www.reddit.com/r/LocalLLaMA/comments/1gdxi9h/which_open_source_model_is_comparable_to_gpt4omini/)_\n",
        "#@markdown - \"deepseek-r1:14b\"\n",
        "\n",
        "#@markdown **1.1b models (for running without a GPU)**\n",
        "#@markdown - \"tinyllama\"\n",
        "#@markdown - \"tinydolphin\"\n",
        "#@markdown - \"saikatkumardey/tinyllama\" _(finetuned for chatting)_\n",
        "\n",
        "#@markdown **Recommended story-telling models**\n",
        "#@markdown - \"HammerAI/mythomax-l2\" (https://ollama.com/HammerAI/mythomax-l2)\n",
        "#@markdown - \"Austism/chronos-hermes-13b-v2\" (https://huggingface.co/Austism/chronos-hermes-13b-v2)\n",
        "#@markdown - \"openhermes\" (https://ollama.com/library/openhermes)\n",
        "\n",
        "#@markdown **Model search/lookups**\n",
        "#@markdown   - [ollama model library](https://ollama.com/library)\n",
        "#@markdown   - [ollama model search](https://ollama.com/search)\n",
        "\n",
        "model_name=\"tinyllama\" #@param {type: \"string\"}  The name of the LLM.\n",
        "#@markdown Remember to put the name of the model in quotes. E.g., \"llama3.2:1b\"\n",
        "#debug=True #@param {type: \"boolean\"}\n",
        "embedding_model=\"mxbai-embed-large\" #@param [\"mxbai-embed-large\",\"nomic-embed-text\",\"all-minilm\"]{allow-input: false}\n",
        "model_endpoint=\"http://localhost:11434/api/generate\" #The endpoint for the LLM's API."
      ],
      "metadata": {
        "cellView": "form",
        "id": "laPx5L8oKdVV"
      },
      "execution_count": null,
      "outputs": []
    },
    {
      "cell_type": "markdown",
      "source": [
        "# Install ollama and ollama-local-rag"
      ],
      "metadata": {
        "id": "IT58FIqCSgeJ"
      }
    },
    {
      "cell_type": "code",
      "source": [
        "#@title Install and start ollama\n",
        "\n",
        "!curl -fsSL https://ollama.com/install.sh | sh\n",
        "\n",
        "def run_ollama():\n",
        "    print(f\"Running ollama on PID {os.getpid()}\")\n",
        "    os.system('ollama serve')\n",
        "\n",
        "ollama_process = multiprocessing.Process(target=run_ollama)\n",
        "ollama_process.start()\n",
        "time.sleep(10)\n",
        "\n",
        "print(f\"Pulling {model_name}...\")\n",
        "!ollama pull $model_name\n",
        "print(f\"Pulling {embedding_model}...\")\n",
        "!ollama pull $embedding_model\n",
        "print(\"Done.\")"
      ],
      "metadata": {
        "id": "-gXX-WKjK47y",
        "cellView": "form"
      },
      "execution_count": null,
      "outputs": []
    },
    {
      "cell_type": "code",
      "source": [
        "#@title Install ollama-local-rag\n",
        "!git clone https://github.com/ljkrajewski/ollama-local-rag.git\n",
        "\n",
        "%cd ollama-local-rag\n",
        "!rm -rf /content/ollama-local-rag/docs/*\n",
        "ENVFILE=\"\"\"\n",
        "LLM_MODEL={model_name}\n",
        "EMBEDDING_MODEL={embedding_model}\n",
        "\"\"\"\n",
        "with open('.env', 'w') as f:\n",
        "    f.write(ENVFILE)\n",
        "!pip install -r requirements.txt\n",
        "\n"
      ],
      "metadata": {
        "cellView": "form",
        "id": "7Gs3U11ffjty"
      },
      "execution_count": null,
      "outputs": []
    },
    {
      "cell_type": "code",
      "source": [
        "#@title Defined functions\n",
        "# prompt: Write a function that takes a dictionary prompt and sends a request to an LLM's API. The output is given in dictionary.\n",
        "\n",
        "def query_llm(prompt):\n",
        "  global model_endpoint,model_name\n",
        "\n",
        "  headers = {\n",
        "      \"Content-Type\": \"application/json\",\n",
        "  }\n",
        "  data = {\n",
        "      \"model\": model_name,\n",
        "      \"prompt\": prompt,\n",
        "      \"stream\": False\n",
        "  }\n",
        "\n",
        "  answer = requests.post(model_endpoint, headers=headers, json=data)\n",
        "\n",
        "  if answer.status_code == 200:\n",
        "    try:\n",
        "      answer_dict = json.loads(answer.content)\n",
        "    except json.JSONDecodeError as e:\n",
        "      print(f\"Error decoding JSON: {e}\")\n",
        "      return None\n",
        "    return answer_dict[\"response\"] #.replace(\"\\n\", \" \")\n",
        "  else:\n",
        "    print(f\"Error: {answer.status_code}\")\n",
        "    return None\n",
        "\n",
        "def update_database():\n",
        "  #!python create_database.py\n",
        "  print(\"Updating database...\")\n",
        "  os.system('python /content/ollama-local-rag/create_database.py')\n",
        "  print(\"Database updated.\")\n",
        "  return\n",
        "\n",
        "def write_memory(data):\n",
        "  global memory_file_num\n",
        "  global memory_location\n",
        "  with open(f\"{memory_location}/memory_{memory_file_num}.md\", \"w\") as f:\n",
        "    f.write(data)\n",
        "  update_database()\n",
        "  memory_file_num += 1\n",
        "  return\n",
        "\n",
        "def separate_sections(text_stream):\n",
        "    match = re.search(r\"<think>(.*?)</think>(.*)\", text_stream, re.DOTALL)\n",
        "    if match:\n",
        "        thinking_section = match.group(1).strip()\n",
        "        results_section = match.group(2).strip()\n",
        "        return thinking_section, results_section\n",
        "    else:\n",
        "        return \"\", text_stream.strip()  # Entire input is results if no <think>\n",
        "\n",
        "def generate(prompt):\n",
        "  print(f\"\\nGenerating response to:\\n'{ prompt }'...\")\n",
        "  result = separate_sections(query_llm(prompt))\n",
        "  thinking = result[0]\n",
        "  answer = result[1]\n",
        "  write_memory(prompt + \"\\n----\\n\" + answer)\n",
        "  print(f\"Response printed.\")\n",
        "  return answer + '\\n', thinking\n",
        "\n",
        "def clear_outputs():\n",
        "  return \"\", \"\", \"\", \"\"\n",
        "\n",
        "def save_log(current):\n",
        "  logdir = \"/content/logs\"\n",
        "  if not os.path.exists(logdir):\n",
        "    os.makedirs(logdir)\n",
        "  logname = time.strftime(\"%Y%m%d-%H%M%S\") + \".md\"\n",
        "  logpath = f\"{logdir}/{logname}\"\n",
        "  with open(logpath, \"w\") as f:\n",
        "    f.write(current)\n",
        "  #files.download(logpath)\n",
        "  #os.remove(logpath)\n",
        "  return f\"{logname} created. Download from files browser.\""
      ],
      "metadata": {
        "id": "4X3dCdeGLb7U",
        "cellView": "form"
      },
      "execution_count": null,
      "outputs": []
    },
    {
      "cell_type": "markdown",
      "source": [
        "# Main routine"
      ],
      "metadata": {
        "id": "aVF7dI3uSvBj"
      }
    },
    {
      "cell_type": "code",
      "source": [
        "#@title Test ollama connection\n",
        "!curl http://localhost:11434"
      ],
      "metadata": {
        "cellView": "form",
        "id": "I1-WUvtwLPiK"
      },
      "execution_count": null,
      "outputs": []
    },
    {
      "cell_type": "code",
      "execution_count": null,
      "metadata": {
        "id": "p6e06aN2B0gi",
        "cellView": "form"
      },
      "outputs": [],
      "source": [
        "#@title Start gradio\n",
        "\n",
        "with gr.Blocks(analytics_enabled=False) as demo:\n",
        "  with gr.Column():\n",
        "    with gr.Row():\n",
        "      prompt_box = gr.Textbox(lines=10, interactive=True, value=\"\", label=\"Prompt\")\n",
        "      with gr.Column():\n",
        "        generate_button = gr.Button(\"Generate\")\n",
        "        clear_button = gr.Button(\"Clear chat\")\n",
        "        savelog_button = gr.Button(\"Save log\")\n",
        "        log_box = gr.Textbox(lines=1, interactive=False, label=\"System Messages\")\n",
        "    with gr.Row():\n",
        "      #result_box = gr.Textbox(lines=20, interactive=False, label=\"Result\")\n",
        "      #think_box = gr.Textbox(lines=20, interactive=False, label=\"Thought Process (DeepSeek-R1 only)\")\n",
        "      result_box = gr.Markdown(show_copy_button=True, label=\"Result\", value=\"_Result_\", container=True, show_label=True, line_breaks=True, min_height=\"1000\")\n",
        "      think_box = gr.Markdown(show_copy_button=True, label=\"Thought Process\", value=\"_Thought Process_\", container=True, show_label=True, line_breaks=True, min_height=\"1000\")\n",
        "\n",
        "  generate_button.click(fn=generate, inputs=[prompt_box], outputs=[result_box,think_box])\n",
        "  clear_button.click(fn=clear_outputs, inputs=[], outputs=[result_box,think_box,prompt_box,log_box])\n",
        "  savelog_button.click(fn=save_log, inputs=[result_box], outputs=[log_box])\n",
        "\n",
        "memory_location = \"/content/ollama-local-rag/docs\"\n",
        "if not os.path.exists(memory_location):\n",
        "  os.mkdir(memory_location)\n",
        "memory_file_num = 1\n",
        "demo.queue().launch(inline=False, share=True, debug=True)"
      ]
    }
  ]
}