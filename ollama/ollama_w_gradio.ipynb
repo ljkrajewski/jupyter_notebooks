{
  "nbformat": 4,
  "nbformat_minor": 0,
  "metadata": {
    "colab": {
      "provenance": [],
      "collapsed_sections": [
        "IT58FIqCSgeJ"
      ],
      "gpuType": "T4",
      "authorship_tag": "ABX9TyNWyg++9sPDgiuPL1SOSfrm",
      "include_colab_link": true
    },
    "kernelspec": {
      "name": "python3",
      "display_name": "Python 3"
    },
    "language_info": {
      "name": "python"
    },
    "accelerator": "GPU"
  },
  "cells": [
    {
      "cell_type": "markdown",
      "metadata": {
        "id": "view-in-github",
        "colab_type": "text"
      },
      "source": [
        "<a href=\"https://colab.research.google.com/github/ljkrajewski/jupyter_notebooks/blob/main/ollama/ollama_w_gradio.ipynb\" target=\"_parent\"><img src=\"https://colab.research.google.com/assets/colab-badge.svg\" alt=\"Open In Colab\"/></a>"
      ]
    },
    {
      "cell_type": "code",
      "source": [
        "#@title Defined globals\n",
        "#@markdown **Common models**\n",
        "#@markdown - \"llama3\"\n",
        "#@markdown - \"llama2-uncensored\"\n",
        "#@markdown - \"dolphin-mistral\"\n",
        "#@markdown - \"codellama:34b\"\n",
        "#@markdown - \"deepseek-r1:14b\"\n",
        "\n",
        "#@markdown **Model search/lookups**\n",
        "#@markdown   - [ollama model library](https://ollama.com/library)\n",
        "#@markdown   - [ollama model search](https://ollama.com/search)\n",
        "\n",
        "model_name=\"deepseek-r1:1.5b\" #@param {type: \"string\"}  The name of the LLM.\n",
        "#@markdown Remember to put the name of the model in quotes. E.g., \"llama3.2:1b\"\n",
        "#debug=True #@param {type: \"boolean\"}\n",
        "model_endpoint=\"http://localhost:11434/api/generate\" #The endpoint for the LLM's API."
      ],
      "metadata": {
        "cellView": "form",
        "id": "laPx5L8oKdVV"
      },
      "execution_count": null,
      "outputs": []
    },
    {
      "cell_type": "markdown",
      "source": [
        "# Install and start ollama"
      ],
      "metadata": {
        "id": "IT58FIqCSgeJ"
      }
    },
    {
      "cell_type": "code",
      "source": [
        "#@title Install and start ollama\n",
        "\n",
        "!curl -fsSL https://ollama.com/install.sh | sh\n",
        "\n",
        "import multiprocessing\n",
        "import os\n",
        "import time\n",
        "import requests\n",
        "import json\n",
        "\n",
        "def run_ollama():\n",
        "    print(f\"Running ollama on PID {os.getpid()}\")\n",
        "    os.system('ollama serve')\n",
        "\n",
        "ollama_process = multiprocessing.Process(target=run_ollama)\n",
        "ollama_process.start()\n",
        "time.sleep(10)\n",
        "\n",
        "!ollama pull $model_name"
      ],
      "metadata": {
        "id": "-gXX-WKjK47y",
        "cellView": "form"
      },
      "execution_count": null,
      "outputs": []
    },
    {
      "cell_type": "code",
      "source": [
        "#@title Defined functions\n",
        "# prompt: Write a function that takes a dictionary prompt and sends a request to an LLM's API. The output is given in dictionary.\n",
        "\n",
        "def query_llm(prompt):\n",
        "  global model_endpoint,model_name\n",
        "\n",
        "  headers = {\n",
        "      \"Content-Type\": \"application/json\",\n",
        "  }\n",
        "  data = {\n",
        "      \"model\": model_name,\n",
        "      \"prompt\": prompt,\n",
        "      \"stream\": False\n",
        "  }\n",
        "\n",
        "  answer = requests.post(model_endpoint, headers=headers, json=data)\n",
        "\n",
        "  if answer.status_code == 200:\n",
        "    try:\n",
        "      answer_dict = json.loads(answer.content)\n",
        "    except json.JSONDecodeError as e:\n",
        "      print(f\"Error decoding JSON: {e}\")\n",
        "      return None\n",
        "    return answer_dict[\"response\"] #.replace(\"\\n\", \" \")\n",
        "  else:\n",
        "    print(f\"Error: {answer.status_code}\")\n",
        "    return None"
      ],
      "metadata": {
        "id": "4X3dCdeGLb7U",
        "cellView": "form"
      },
      "execution_count": null,
      "outputs": []
    },
    {
      "cell_type": "markdown",
      "source": [
        "# Main routine"
      ],
      "metadata": {
        "id": "aVF7dI3uSvBj"
      }
    },
    {
      "cell_type": "code",
      "source": [
        "#@title Test ollama connection\n",
        "!curl http://localhost:11434"
      ],
      "metadata": {
        "cellView": "form",
        "id": "I1-WUvtwLPiK"
      },
      "execution_count": null,
      "outputs": []
    },
    {
      "cell_type": "code",
      "execution_count": null,
      "metadata": {
        "id": "p6e06aN2B0gi"
      },
      "outputs": [],
      "source": [
        "#@title Start gradio\n",
        "!pip install -q gradio\n",
        "\n",
        "import gradio as gr\n",
        "import re\n",
        "#from google.colab import files\n",
        "\n",
        "def separate_sections(text_stream):\n",
        "    match = re.search(r\"<think>(.*?)</think>(.*)\", text_stream, re.DOTALL)\n",
        "    if match:\n",
        "        thinking_section = match.group(1).strip()\n",
        "        results_section = match.group(2).strip()\n",
        "        return thinking_section, results_section\n",
        "    else:\n",
        "        return \"\", text_stream.strip()  # Entire input is results if no <think>\n",
        "\n",
        "def generate(prompt,current):\n",
        "  print(f\"\\nGenerating response to '{ prompt }'...\")\n",
        "  new_prompt = \"**\" + prompt + \"**\\n\"\n",
        "  result = separate_sections(query_llm(current + new_prompt))\n",
        "  thinking = result[0]\n",
        "  answer = result[1]\n",
        "  print(f\"Response printed.\")\n",
        "  return current + '\\n' + new_prompt + '\\n' + answer + '\\n', thinking\n",
        "\n",
        "def clear_outputs():\n",
        "  return \"\", \"\", \"\", \"\"\n",
        "\n",
        "def save_log(current):\n",
        "  logdir = \"/content/logs\"\n",
        "  if not os.path.exists(logdir):\n",
        "    os.makedirs(logdir)\n",
        "  logname = time.strftime(\"%Y%m%d-%H%M%S\") + \".md\"\n",
        "  logpath = f\"{logdir}/{logname}\"\n",
        "  with open(logpath, \"w\") as f:\n",
        "    f.write(current)\n",
        "  #files.download(logpath)\n",
        "  #os.remove(logpath)\n",
        "  return f\"{logname} created. Download from files browser.\"\n",
        "\n",
        "with gr.Blocks(analytics_enabled=False) as demo:\n",
        "  with gr.Column():\n",
        "    with gr.Row():\n",
        "      prompt_box = gr.Textbox(lines=10, interactive=True, value=\"\", label=\"Prompt\")\n",
        "      with gr.Column():\n",
        "        generate_button = gr.Button(\"Generate\")\n",
        "        clear_button = gr.Button(\"Clear chat\")\n",
        "        savelog_button = gr.Button(\"Save log\")\n",
        "        log_box = gr.Textbox(lines=1, interactive=False, label=\"System Messages\")\n",
        "    with gr.Row():\n",
        "      #result_box = gr.Textbox(lines=20, interactive=False, label=\"Result\")\n",
        "      #think_box = gr.Textbox(lines=20, interactive=False, label=\"Thought Process (DeepSeek-R1 only)\")\n",
        "      result_box = gr.Markdown(show_copy_button=True, label=\"Result\", show_label=True, container=True, line_breaks=True, height=\"1000\")\n",
        "      think_box = gr.Markdown(show_copy_button=True, label=\"Thought Process (DeepSeek-R1 only), show_label=True, container=True, line_breaks=True, height=\"1000\"\")\n",
        "\n",
        "  generate_button.click(fn=generate, inputs=[prompt_box,result_box], outputs=[result_box,think_box])\n",
        "  clear_button.click(fn=clear_outputs, inputs=[], outputs=[result_box,think_box,prompt_box,log_box])\n",
        "  savelog_button.click(fn=save_log, inputs=[result_box], outputs=[log_box])\n",
        "\n",
        "demo.queue().launch(inline=False, share=True, debug=True)"
      ]
    }
  ]
}