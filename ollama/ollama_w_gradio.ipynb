{
  "nbformat": 4,
  "nbformat_minor": 0,
  "metadata": {
    "colab": {
      "provenance": [],
      "collapsed_sections": [
        "IT58FIqCSgeJ"
      ],
      "gpuType": "T4",
      "authorship_tag": "ABX9TyMB1mVLvsfdGUf5T/pM698A",
      "include_colab_link": true
    },
    "kernelspec": {
      "name": "python3",
      "display_name": "Python 3"
    },
    "language_info": {
      "name": "python"
    },
    "accelerator": "GPU"
  },
  "cells": [
    {
      "cell_type": "markdown",
      "metadata": {
        "id": "view-in-github",
        "colab_type": "text"
      },
      "source": [
        "<a href=\"https://colab.research.google.com/github/ljkrajewski/jupyter_notebooks/blob/main/ollama/ollama_w_gradio.ipynb\" target=\"_parent\"><img src=\"https://colab.research.google.com/assets/colab-badge.svg\" alt=\"Open In Colab\"/></a>"
      ]
    },
    {
      "cell_type": "code",
      "source": [
        "#@title Defined globals\n",
        "#@markdown **Common models**\n",
        "#@markdown - llama3\n",
        "#@markdown - llama2-uncensored\n",
        "#@markdown - dolphin-mistral\n",
        "#@markdown - codellama:34b\n",
        "#@markdown - deepseek-r1:14b\n",
        "\n",
        "#@markdown **Model search/lookups**\n",
        "#@markdown   - [ollama model library](https://ollama.com/library)\n",
        "#@markdown   - [ollama model search](https://ollama.com/search)\n",
        "\n",
        "model_name=\"llama3\" #@param {type: \"string\"}  The name of the LLM.\n",
        "debug=True #@param {type: \"boolean\"}\n",
        "model_endpoint=\"http://localhost:11434/api/generate\" #The endpoint for the LLM's API."
      ],
      "metadata": {
        "cellView": "form",
        "id": "laPx5L8oKdVV"
      },
      "execution_count": null,
      "outputs": []
    },
    {
      "cell_type": "markdown",
      "source": [
        "# Install and start ollama"
      ],
      "metadata": {
        "id": "IT58FIqCSgeJ"
      }
    },
    {
      "cell_type": "code",
      "source": [
        "#@title Install ollama\n",
        "!curl -fsSL https://ollama.com/install.sh | sh"
      ],
      "metadata": {
        "cellView": "form",
        "id": "Q9YfXjhIK6KR"
      },
      "execution_count": null,
      "outputs": []
    },
    {
      "cell_type": "code",
      "source": [
        "#@title Start ollama\n",
        "import multiprocessing\n",
        "import os\n",
        "import time\n",
        "import requests\n",
        "import json\n",
        "\n",
        "def run_ollama():\n",
        "    print(f\"Running ollama on PID {os.getpid()}\")\n",
        "    os.system('ollama serve')\n",
        "\n",
        "ollama_process = multiprocessing.Process(target=run_ollama)\n",
        "ollama_process.start()\n",
        "time.sleep(10)\n",
        "\n",
        "!ollama pull $model_name"
      ],
      "metadata": {
        "cellView": "form",
        "id": "-gXX-WKjK47y"
      },
      "execution_count": null,
      "outputs": []
    },
    {
      "cell_type": "code",
      "source": [
        "#@title Test ollama connection\n",
        "!curl http://localhost:11434"
      ],
      "metadata": {
        "cellView": "form",
        "id": "I1-WUvtwLPiK"
      },
      "execution_count": null,
      "outputs": []
    },
    {
      "cell_type": "code",
      "source": [
        "#@title Defined functions\n",
        "# prompt: Write a function that takes a dictionary prompt and sends a request to an LLM's API. The output is given in dictionary.\n",
        "\n",
        "def query_llm(prompt):\n",
        "  global model_endpoint,model_name\n",
        "\n",
        "  headers = {\n",
        "      \"Content-Type\": \"application/json\",\n",
        "  }\n",
        "  data = {\n",
        "      \"model\": model_name,\n",
        "      \"prompt\": prompt,\n",
        "      \"stream\": False\n",
        "  }\n",
        "\n",
        "  answer = requests.post(model_endpoint, headers=headers, json=data)\n",
        "\n",
        "  if answer.status_code == 200:\n",
        "    try:\n",
        "      answer_dict = json.loads(answer.content)\n",
        "    except json.JSONDecodeError as e:\n",
        "      print(f\"Error decoding JSON: {e}\")\n",
        "      return None\n",
        "    return answer_dict[\"response\"].replace(\"\\n\", \" \")\n",
        "  else:\n",
        "    print(f\"Error: {answer.status_code}\")\n",
        "    return None"
      ],
      "metadata": {
        "cellView": "form",
        "id": "4X3dCdeGLb7U"
      },
      "execution_count": null,
      "outputs": []
    },
    {
      "cell_type": "markdown",
      "source": [
        "# Main routine"
      ],
      "metadata": {
        "id": "aVF7dI3uSvBj"
      }
    },
    {
      "cell_type": "code",
      "execution_count": null,
      "metadata": {
        "id": "p6e06aN2B0gi",
        "cellView": "form"
      },
      "outputs": [],
      "source": [
        "#@title Start gradio\n",
        "!pip install -q gradio\n",
        "\n",
        "import gradio as gr\n",
        "\n",
        "def generate(prompt,current):\n",
        "  new_prompt = \"User: \" + prompt + \"\\n-----\\n\"\n",
        "  answer = query_llm(current + new_prompt)\n",
        "  return current + new_prompt + answer + \"\\n=====\\n\"\n",
        "\n",
        "with gr.Blocks(analytics_enabled=False) as demo:\n",
        "  with gr.Column():\n",
        "    with gr.Row():\n",
        "      prompt_box = gr.Textbox(lines=3, interactive=True, value=\"Put prompt here.\", label=\"Prompt\")\n",
        "      generate_button = gr.Button(\"Generate\")\n",
        "    result_box = gr.Textbox(lines=20, interactive=False, label=\"Result\")\n",
        "\n",
        "  generate_button.click(fn=generate, inputs=[prompt_box,result_box], outputs=[result_box])\n",
        "\n",
        "demo.queue().launch(inline=False, share=True, debug=True)"
      ]
    }
  ]
}