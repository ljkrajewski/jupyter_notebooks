{
  "nbformat": 4,
  "nbformat_minor": 0,
  "metadata": {
    "colab": {
      "provenance": [],
      "collapsed_sections": [
        "NEGQ_gg4ZQcP",
        "D6x1zzxgZy1q"
      ],
      "authorship_tag": "ABX9TyOh9Q63+INF+TUKnQqRRpAs",
      "include_colab_link": true
    },
    "kernelspec": {
      "name": "python3",
      "display_name": "Python 3"
    },
    "language_info": {
      "name": "python"
    }
  },
  "cells": [
    {
      "cell_type": "markdown",
      "metadata": {
        "id": "view-in-github",
        "colab_type": "text"
      },
      "source": [
        "<a href=\"https://colab.research.google.com/github/ljkrajewski/jupyter_notebooks/blob/main/ollama/ollama_chatbot.ipynb\" target=\"_parent\"><img src=\"https://colab.research.google.com/assets/colab-badge.svg\" alt=\"Open In Colab\"/></a>"
      ]
    },
    {
      "cell_type": "code",
      "execution_count": null,
      "metadata": {
        "id": "6ZwIfyaWY7oN",
        "cellView": "form"
      },
      "outputs": [],
      "source": [
        "#@title Open reverse proxy\n",
        "\n",
        "LISTENING_PORT = 3000\n",
        "\n",
        "from google.colab.output import eval_js\n",
        "print(eval_js(\"google.colab.kernel.proxyPort(\" + str(LISTENING_PORT) + \")\"))\n",
        "\"\"\"\n",
        "!pip install pyngrok\n",
        "from pyngrok import ngrok\n",
        "from google.colab import userdata\n",
        "# Terminate open tunnels if exist\n",
        "ngrok.kill()\n",
        "\n",
        "# Setting the authtoken (optional)\n",
        "# Get your authtoken from https://dashboard.ngrok.com/auth\n",
        "ngrok.set_auth_token(userdata.get('NGROK_TOKEN'))\n",
        "public_url = ngrok.connect(LISTENING_PORT).public_url\n",
        "print(\" * ngrok tunnel \\\"{}\\\" -> \\\"http://127.0.0.1:{}\\\"\".format(public_url, LISTENING_PORT))\n",
        "\"\"\""
      ]
    },
    {
      "cell_type": "code",
      "source": [
        "#@title Defined globals\n",
        "model_name=\"tinyllama\" #@param {type: \"string\"}  The name of the LLM.\n",
        "debug=True #@param {type: \"boolean\"}\n",
        "model_endpoint=\"http://localhost:11434/api/generate\" #The endpoint for the LLM's API.\n",
        "\n",
        "import requests\n",
        "import json"
      ],
      "metadata": {
        "id": "S3Z3nsuBZAMb",
        "cellView": "form"
      },
      "execution_count": null,
      "outputs": []
    },
    {
      "cell_type": "markdown",
      "source": [
        "# Install and start ollama"
      ],
      "metadata": {
        "id": "NEGQ_gg4ZQcP"
      }
    },
    {
      "cell_type": "code",
      "source": [
        "#@title Install ollama\n",
        "!curl -fsSL https://ollama.com/install.sh | sh\n"
      ],
      "metadata": {
        "id": "URkZLRM1ZeYx",
        "cellView": "form"
      },
      "execution_count": null,
      "outputs": []
    },
    {
      "cell_type": "code",
      "source": [
        "\n",
        "#@title Start ollama\n",
        "import multiprocessing\n",
        "import os\n",
        "import time\n",
        "\n",
        "def run_ollama():\n",
        "    print(f\"Running ollama on PID {os.getpid()}\")\n",
        "    os.system('ollama serve')\n",
        "\n",
        "ollama_process = multiprocessing.Process(target=run_ollama)\n",
        "ollama_process.start()\n",
        "time.sleep(10)"
      ],
      "metadata": {
        "id": "fcpfgh-DZe9j",
        "cellView": "form"
      },
      "execution_count": null,
      "outputs": []
    },
    {
      "cell_type": "code",
      "source": [
        "\n",
        "!ollama pull $model_name"
      ],
      "metadata": {
        "id": "iF6SF3dPZh-o"
      },
      "execution_count": null,
      "outputs": []
    },
    {
      "cell_type": "code",
      "source": [
        "\n",
        "#@title Test ollama connection\n",
        "!curl http://localhost:11434"
      ],
      "metadata": {
        "id": "3V8-uy0CZkjg",
        "cellView": "form"
      },
      "execution_count": null,
      "outputs": []
    },
    {
      "cell_type": "markdown",
      "source": [
        "# Install and start Chatbot-UI"
      ],
      "metadata": {
        "id": "D6x1zzxgZy1q"
      }
    },
    {
      "cell_type": "code",
      "source": [
        "#@title Install dependancies\n",
        "# Install nodejs & npm\n",
        "!curl -fsSL https://deb.nodesource.com/setup_18.x | sudo -E bash -\n",
        "!apt install -y nodejs\n",
        "!node --version\n",
        "!npm --version"
      ],
      "metadata": {
        "id": "xUNKVMxLZ9Hw",
        "cellView": "form"
      },
      "execution_count": null,
      "outputs": []
    },
    {
      "cell_type": "code",
      "source": [
        "#@title Install code\n",
        "# Download chatbot-ui\n",
        "!git clone -b legacy https://github.com/mckaywrigley/chatbot-ui.git\n",
        "%cd chatbot-ui\n",
        "!npm i\n",
        "!npx update-browserslist-db@latest"
      ],
      "metadata": {
        "id": "6qo6dXKzbziQ",
        "cellView": "form"
      },
      "execution_count": null,
      "outputs": []
    },
    {
      "cell_type": "code",
      "source": [
        "#@title Create .env file\n",
        "ENV_FILE=\"\"\"\n",
        "OPENAI_API_KEY=EMPTY\n",
        "OPENAI_API_TYPE=openai\n",
        "OPENAI_API_HOST=http://localhost:11434/api/generate\n",
        "\"\"\"\n",
        "with open(\".env.local\", \"w\") as f:\n",
        "  f.write(ENV_FILE)"
      ],
      "metadata": {
        "id": "bwmfVo1fcSS3",
        "cellView": "form"
      },
      "execution_count": null,
      "outputs": []
    },
    {
      "cell_type": "code",
      "source": [
        "!npm run dev"
      ],
      "metadata": {
        "id": "3XkPTEh8eX6J"
      },
      "execution_count": null,
      "outputs": []
    },
    {
      "cell_type": "code",
      "source": [
        "#@title Start Chatbot-UI\n",
        "import multiprocessing\n",
        "import os\n",
        "import time\n",
        "\n",
        "def run_chatbot():\n",
        "    print(f\"Running chatbot-ui on PID {os.getpid()}\")\n",
        "    os.system('npm run dev')\n",
        "\n",
        "chatbot_process = multiprocessing.Process(target=run_chatbot)\n",
        "chatbot_process.start()\n",
        "time.sleep(10)"
      ],
      "metadata": {
        "cellView": "form",
        "id": "7JxjRgATfPbH"
      },
      "execution_count": null,
      "outputs": []
    }
  ]
}