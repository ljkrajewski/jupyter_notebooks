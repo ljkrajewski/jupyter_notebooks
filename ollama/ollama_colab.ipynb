{
  "nbformat": 4,
  "nbformat_minor": 0,
  "metadata": {
    "colab": {
      "provenance": [],
      "gpuType": "T4",
      "authorship_tag": "ABX9TyOgsLVUXSG9+2MnIM9fIVuo",
      "include_colab_link": true
    },
    "kernelspec": {
      "name": "python3",
      "display_name": "Python 3"
    },
    "language_info": {
      "name": "python"
    },
    "accelerator": "GPU"
  },
  "cells": [
    {
      "cell_type": "markdown",
      "metadata": {
        "id": "view-in-github",
        "colab_type": "text"
      },
      "source": [
        "<a href=\"https://colab.research.google.com/github/ljkrajewski/jupyter_notebooks/blob/main/ollama_colab.ipynb\" target=\"_parent\"><img src=\"https://colab.research.google.com/assets/colab-badge.svg\" alt=\"Open In Colab\"/></a>"
      ]
    },
    {
      "cell_type": "code",
      "source": [
        "#@title Check GPU stats\n",
        "!nvidia-smi"
      ],
      "metadata": {
        "cellView": "form",
        "id": "IFiV35-a0Ut1",
        "colab": {
          "base_uri": "https://localhost:8080/"
        },
        "outputId": "aebe4b97-1cca-4a16-c5ca-57687a884255"
      },
      "execution_count": 1,
      "outputs": [
        {
          "output_type": "stream",
          "name": "stdout",
          "text": [
            "/bin/bash: line 1: nvidia-smi: command not found\n"
          ]
        }
      ]
    },
    {
      "cell_type": "code",
      "source": [
        "#@title Set up reverse proxy\n",
        "from google.colab.output import eval_js\n",
        "print(eval_js(\"google.colab.kernel.proxyPort(5000)\"))"
      ],
      "metadata": {
        "cellView": "form",
        "id": "LC6qQjsuyrgE"
      },
      "execution_count": null,
      "outputs": []
    },
    {
      "cell_type": "code",
      "source": [
        "#@title Install docker\n",
        "#https://gist.github.com/mwufi/6718b30761cd109f9aff04c5144eb885 (Install docker on Colab)\n",
        "\n",
        "!curl -fsSL https://gist.githubusercontent.com/mwufi/6718b30761cd109f9aff04c5144eb885/raw/dd8f718a9d0a8aa768d2ab8b00fb644a15b6fbcb/install_docker_in_colab.sh | sh\n"
      ],
      "metadata": {
        "id": "yw12ZBeQYnKu"
      },
      "execution_count": null,
      "outputs": []
    },
    {
      "cell_type": "code",
      "source": [
        "!docker --version\n",
        "!docker pull hello-world"
      ],
      "metadata": {
        "id": "JgH7P04jZ4Ol"
      },
      "execution_count": null,
      "outputs": []
    },
    {
      "cell_type": "code",
      "source": [
        "#@title Install updates & requirements\n",
        "\n",
        "#https://stackoverflow.com/questions/68657341/how-can-i-update-google-colabs-python-version\n",
        "#!sudo apt-get update -y -qq\n",
        "!sudo apt-get install python3.11 -y -qq\n",
        "#!sudo update-alternatives --install /usr/bin/python3 python3 /usr/bin/python3.10 1\n",
        "!sudo update-alternatives --install /usr/bin/python3 python3 /usr/bin/python3.11 1\n",
        "\n",
        "!sudo apt-get install python3.11-distutils\n",
        "!wget https://bootstrap.pypa.io/get-pip.py\n",
        "!python get-pip.py\n",
        "\n",
        "!python -m pip install ipython ipython_genutils ipykernel jupyter_console prompt_toolkit httplib2 astor\n",
        "\n",
        "#!ln -s /usr/local/lib/python3.10/dist-packages/google /usr/local/lib/python3.11/dist-packages/google"
      ],
      "metadata": {
        "id": "1R5BjUH31ZB-"
      },
      "execution_count": null,
      "outputs": []
    },
    {
      "cell_type": "code",
      "source": [
        "#@title Install ollama and open-webui\n",
        "\n",
        "#@markdown _Do **NOT** restart the runtime._ The colab page will crash.\n",
        "\n",
        "!curl -fsSL https://ollama.com/install.sh | sh\n",
        "!pip install --ignore-installed blinker\n",
        "#!pip install open-webui\n",
        "#!pip install colab_kernel_launcher"
      ],
      "metadata": {
        "id": "Sx8Jq0q259NV"
      },
      "execution_count": null,
      "outputs": []
    },
    {
      "cell_type": "code",
      "source": [
        "#@title Starting ollama\n",
        "\n",
        "import multiprocessing\n",
        "import os\n",
        "import time\n",
        "\n",
        "def run_ollama():\n",
        "    print(f\"Running ollama on PID {os.getpid()}\")\n",
        "    os.system('ollama serve')\n",
        "\n",
        "ollama_process = multiprocessing.Process(target=run_ollama)\n",
        "ollama_process.start()\n",
        "time.sleep(10)"
      ],
      "metadata": {
        "cellView": "form",
        "id": "nggAcRbou3fQ"
      },
      "execution_count": null,
      "outputs": []
    },
    {
      "cell_type": "code",
      "source": [
        "#@title Starting open-webui\n",
        "!export set WEBUI_AUTH=False\n",
        "!docker run -d -p 5000:8080 --gpus all --add-host=host.docker.internal:host-gateway -v open-webui:/app/backend/data --name open-webui --restart always ghcr.io/open-webui/open-webui:cuda\n",
        "#!open-webui serve --port 5000"
      ],
      "metadata": {
        "id": "vVjrcrVFGP96"
      },
      "execution_count": null,
      "outputs": []
    }
  ]
}
