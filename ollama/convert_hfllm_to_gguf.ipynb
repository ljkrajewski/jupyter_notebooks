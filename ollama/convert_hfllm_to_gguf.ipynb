{
  "nbformat": 4,
  "nbformat_minor": 0,
  "metadata": {
    "colab": {
      "provenance": [],
      "authorship_tag": "ABX9TyOD/Qh0r1ISqZtQGjEf4DA0",
      "include_colab_link": true
    },
    "kernelspec": {
      "name": "python3",
      "display_name": "Python 3"
    },
    "language_info": {
      "name": "python"
    }
  },
  "cells": [
    {
      "cell_type": "markdown",
      "metadata": {
        "id": "view-in-github",
        "colab_type": "text"
      },
      "source": [
        "<a href=\"https://colab.research.google.com/github/ljkrajewski/jupyter_notebooks/blob/main/ollama/convert_hfllm_to_gguf.ipynb\" target=\"_parent\"><img src=\"https://colab.research.google.com/assets/colab-badge.svg\" alt=\"Open In Colab\"/></a>"
      ]
    },
    {
      "cell_type": "markdown",
      "source": [
        "[Tutorial: How to convert HuggingFace model to GGUF format](https://github.com/ggml-org/llama.cpp/discussions/2948)"
      ],
      "metadata": {
        "id": "Z79VT_dl3rQB"
      }
    },
    {
      "cell_type": "code",
      "source": [
        "model_id = \"Transducens/empathetic-teacher\" #@param string\n",
        "revision_branch = \"main\" #@param string\n",
        "outtype = \"q8_0\" #@param [\"q8_0\", \"f32\", \"f16\"]\n",
        "#local_dir_name=\"vicuna-hf\" #@param string"
      ],
      "metadata": {
        "id": "sZeaaNTlqhYg"
      },
      "execution_count": null,
      "outputs": []
    },
    {
      "cell_type": "code",
      "execution_count": null,
      "metadata": {
        "id": "ZV9tWZxh3lSf"
      },
      "outputs": [],
      "source": [
        "!pip install huggingface_hub\n",
        "\n",
        "from huggingface_hub import snapshot_download\n",
        "\n",
        "#model_id=\"WhiteRabbitNeo/WhiteRabbitNeo-2.5-Qwen-2.5-Coder-7B\"\n",
        "snapshot_download(\n",
        "    repo_id=model_id,\n",
        "    local_dir=\"vicuna-hf\",\n",
        "    revision=revision_branch,\n",
        "    etag_timeout=60,\n",
        "    resume_download=True\n",
        ")\n"
      ]
    },
    {
      "cell_type": "code",
      "source": [
        "!git clone https://github.com/ggerganov/llama.cpp.git\n",
        "!pip install -r llama.cpp/requirements.txt\n",
        "#!python llama.cpp/convert_hf_to_gguf.py -h"
      ],
      "metadata": {
        "id": "FgXkmGy04vI_"
      },
      "execution_count": null,
      "outputs": []
    },
    {
      "cell_type": "code",
      "source": [
        "!python llama.cpp/convert_hf_to_gguf.py vicuna-hf --outfile \"{ model_id.split('/')[1] }-{ outtype }.gguf\" --outtype \"{ outtype }\"\n",
        "# or \"--outtype q16_0\" or \"--outtype q32_0\" to preserve original quality."
      ],
      "metadata": {
        "id": "lnfpRmak5XWb"
      },
      "execution_count": null,
      "outputs": []
    },
    {
      "cell_type": "markdown",
      "source": [],
      "metadata": {
        "id": "Tlp3eSkFE8u4"
      }
    },
    {
      "cell_type": "code",
      "source": [
        "import os\n",
        "from google.colab import userdata\n",
        "userdata.get('HF_TOKEN')\n",
        "os.environ[\"HUGGING_FACE_HUB_TOKEN\"] = userdata.get('HF_TOKEN')\n",
        "\n",
        "CONTENT=f\"\"\"\n",
        "from huggingface_hub import HfApi\n",
        "api = HfApi()\n",
        "\n",
        "model_id = \"ljkrajewski/{ model_id.split('/')[1] }-{ outtype }-gguf\"\n",
        "api.create_repo(model_id, exist_ok=True, repo_type=\"model\")\n",
        "api.upload_file(\n",
        "    path_or_fileobj=\"{ model_id.split('/')[1] }-{ outtype }.gguf\",\n",
        "    path_in_repo=\"{ model_id.split('/')[1] }-{ outtype }.gguf\",\n",
        "    repo_id=model_id,\n",
        ")\n",
        "\"\"\"\n",
        "with open(\"upload.py\", \"w\") as f:\n",
        "  f.write(CONTENT)\n",
        "\n",
        "!python upload.py"
      ],
      "metadata": {
        "id": "jWrSwjYr7npU"
      },
      "execution_count": null,
      "outputs": []
    }
  ]
}