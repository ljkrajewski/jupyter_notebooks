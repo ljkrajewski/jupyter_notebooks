{
  "nbformat": 4,
  "nbformat_minor": 0,
  "metadata": {
    "colab": {
      "provenance": [],
      "gpuType": "T4",
      "authorship_tag": "ABX9TyNbJjoKPkY77daZ1etr5kTb",
      "include_colab_link": true
    },
    "kernelspec": {
      "name": "python3",
      "display_name": "Python 3"
    },
    "language_info": {
      "name": "python"
    },
    "accelerator": "GPU"
  },
  "cells": [
    {
      "cell_type": "markdown",
      "metadata": {
        "id": "view-in-github",
        "colab_type": "text"
      },
      "source": [
        "<a href=\"https://colab.research.google.com/github/ljkrajewski/jupyter_notebooks/blob/main/ollama_xterm.ipynb\" target=\"_parent\"><img src=\"https://colab.research.google.com/assets/colab-badge.svg\" alt=\"Open In Colab\"/></a>"
      ]
    },
    {
      "cell_type": "code",
      "source": [
        "\n",
        "#@title Set up reverse proxy (commented out)\n",
        "\"\"\"\n",
        "from google.colab.output import eval_js\n",
        "print(eval_js(\"google.colab.kernel.proxyPort(11434)\"))\n",
        "\"\"\""
      ],
      "metadata": {
        "id": "kg5959f4n2Qp",
        "cellView": "form"
      },
      "execution_count": null,
      "outputs": []
    },
    {
      "cell_type": "code",
      "execution_count": null,
      "metadata": {
        "cellView": "form",
        "id": "HUPUZilYe_Rb"
      },
      "outputs": [],
      "source": [
        "#@title Install colab-xterm\n",
        "\n",
        "!pip install colab-xterm #https://pypi.org/project/colab-xterm/\n",
        "%load_ext colabxterm"
      ]
    },
    {
      "cell_type": "code",
      "source": [
        "#@title Installing ollama\n",
        "\n",
        "!curl -fsSL https://ollama.com/install.sh | sh"
      ],
      "metadata": {
        "cellView": "form",
        "id": "t2WGyu38fo99"
      },
      "execution_count": null,
      "outputs": []
    },
    {
      "cell_type": "code",
      "source": [
        "#@title Starting ollama\n",
        "\n",
        "import multiprocessing\n",
        "import os\n",
        "import time\n",
        "\n",
        "def run_ollama():\n",
        "    print(f\"Running ollama on PID {os.getpid()}\")\n",
        "    os.system('ollama serve')\n",
        "\n",
        "ollama_process = multiprocessing.Process(target=run_ollama)\n",
        "ollama_process.start()\n",
        "time.sleep(10)"
      ],
      "metadata": {
        "cellView": "form",
        "id": "pwD6_yRDftvT"
      },
      "execution_count": null,
      "outputs": []
    },
    {
      "cell_type": "code",
      "source": [
        "#@title Starting xterm\n",
        "\n",
        "#@markdown - Run ```ollama run <model>``` to start ollama. Examples:\n",
        "#@markdown   - ```ollama run llama2-uncensored```\n",
        "#@markdown   - ```ollama run llama3```\n",
        "#@markdown   - ```ollama run dolphin-mistral```\n",
        "#@markdown   - ```ollama run BookWormXtreme/fimbulvetr-11b-v2```\n",
        "#@markdown   - ```ollama run codellama:34b```\n",
        "#@markdown - Model search/lookups\n",
        "#@markdown   - [ollama model library](https://ollama.com/library)\n",
        "#@markdown   - [ollama model search](https://ollama.com/search)\n",
        "#@markdown - [What's the best 7b model on Ollama right now? [Reddit]](https://www.reddit.com/r/LocalLLaMA/comments/1ajnitq/whats_the_best_7b_model_on_ollama_right_now_feb/)\n",
        "\n",
        "%xterm"
      ],
      "metadata": {
        "cellView": "form",
        "id": "k4HU5eY-foFG"
      },
      "execution_count": null,
      "outputs": []
    }
  ]
}