{
  "nbformat": 4,
  "nbformat_minor": 0,
  "metadata": {
    "colab": {
      "provenance": [],
      "authorship_tag": "ABX9TyOJS6rGbzI2aBFhhLQkjSoF",
      "include_colab_link": true
    },
    "kernelspec": {
      "name": "python3",
      "display_name": "Python 3"
    },
    "language_info": {
      "name": "python"
    }
  },
  "cells": [
    {
      "cell_type": "markdown",
      "metadata": {
        "id": "view-in-github",
        "colab_type": "text"
      },
      "source": [
        "<a href=\"https://colab.research.google.com/github/ljkrajewski/jupyter_notebooks/blob/main/flux/png_meta_reader.ipynb\" target=\"_parent\"><img src=\"https://colab.research.google.com/assets/colab-badge.svg\" alt=\"Open In Colab\"/></a>"
      ]
    },
    {
      "cell_type": "code",
      "execution_count": null,
      "metadata": {
        "id": "6_DY4993q0XP"
      },
      "outputs": [],
      "source": [
        "#@title Install pre-reqs\n",
        "!pip install gradio\n",
        "#!pip install exifread"
      ]
    },
    {
      "cell_type": "code",
      "source": [
        "#@title Define functions\n",
        "import gradio as gr\n",
        "from PIL import Image\n",
        "import os\n",
        "\n",
        "def get_image_metadata(image):\n",
        "    try:\n",
        "        # Check if image is provided\n",
        "        if image is None:\n",
        "            return \"No image provided\"\n",
        "\n",
        "        # Open image with PIL\n",
        "        img = Image.open(image)\n",
        "\n",
        "        # Initialize metadata dictionary\n",
        "        metadata = {\n",
        "            'Format': img.format,\n",
        "            'Mode': img.mode,\n",
        "            'Size': img.size,\n",
        "            'Width': img.size[0],\n",
        "            'Height': img.size[1]\n",
        "        }\n",
        "\n",
        "        # Get PNG-specific metadata from info dictionary\n",
        "        if hasattr(img, 'info'):\n",
        "            for key, value in img.info.items():\n",
        "                metadata[f\"Info_{key}\"] = str(value)\n",
        "\n",
        "        # Get PNG text chunks (tEXt, zTXt, iTXt)\n",
        "        if hasattr(img, 'pnginfo') and img.pnginfo is not None:\n",
        "            for key, value in img.pnginfo.items():\n",
        "                metadata[f\"PNG_{key}\"] = str(value)\n",
        "\n",
        "        # Format metadata for display\n",
        "        output = \"Image Metadata:\\n\\n\"\n",
        "        for key, value in metadata.items():\n",
        "            output += f\"{key}: {value}\\n\"\n",
        "\n",
        "        return output\n",
        "    except Exception as e:\n",
        "        return f\"Error processing image: {str(e)}\""
      ],
      "metadata": {
        "id": "eJiJw4X80taz"
      },
      "execution_count": null,
      "outputs": []
    },
    {
      "cell_type": "code",
      "source": [
        "#@title Run Gradio interface\n",
        "iface = gr.Interface(\n",
        "    fn=get_image_metadata,\n",
        "    inputs=gr.Image(type=\"filepath\", label=\"Upload PNG Image\"),\n",
        "    outputs=gr.Textbox(label=\"Image Metadata\"),\n",
        "    title=\"PNG Image Metadata Extractor\",\n",
        "    description=\"Upload a PNG image to view all its metadata\"\n",
        ")\n",
        "\n",
        "# Launch the interface\n",
        "iface.launch()"
      ],
      "metadata": {
        "id": "-Gq_Tqz9q4fm"
      },
      "execution_count": null,
      "outputs": []
    }
  ]
}