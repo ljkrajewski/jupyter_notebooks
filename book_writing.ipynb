{
  "nbformat": 4,
  "nbformat_minor": 0,
  "metadata": {
    "colab": {
      "provenance": [],
      "collapsed_sections": [
        "RW6RMlD9x-0h"
      ],
      "gpuType": "T4",
      "authorship_tag": "ABX9TyNqgjej5W0JtqzdAXV0aZvQ",
      "include_colab_link": true
    },
    "kernelspec": {
      "name": "python3",
      "display_name": "Python 3"
    },
    "language_info": {
      "name": "python"
    },
    "accelerator": "GPU"
  },
  "cells": [
    {
      "cell_type": "markdown",
      "metadata": {
        "id": "view-in-github",
        "colab_type": "text"
      },
      "source": [
        "<a href=\"https://colab.research.google.com/github/ljkrajewski/jupyter_notebooks/blob/main/book_writing.ipynb\" target=\"_parent\"><img src=\"https://colab.research.google.com/assets/colab-badge.svg\" alt=\"Open In Colab\"/></a>"
      ]
    },
    {
      "cell_type": "markdown",
      "source": [
        "# How to write a book\n",
        "## Outline\n",
        "~~Write an outline for a three-act story in the {genre} genre. For each act, write a list of chapters along with descriptions/summaries for each chapter.~~<br>\n",
        "_Done._\n",
        "\n",
        "## Individual chapters\n",
        "~~For each chapter:~~\n",
        "- ~~write a list of 3-5 sections within the chapter~~\n",
        "- ~~summaries/descriptions for each section.~~\n",
        "\n",
        "_Done._\n",
        "\n",
        "## Chapter sections\n",
        "For each chapter section:\n",
        "- Write the section. Include:\n",
        "  - Story summaries so far\n",
        "  - List of characters and facts about them\n",
        "  - List of other story-related facts\n",
        "- Write a summary of the section (in a bullet-point format)\n",
        "- Write/add to a list of characters along with facts about those characters (in a bullet-point format)\n",
        "- Write/add to a list of story-related facts"
      ],
      "metadata": {
        "id": "EJwOmTYsOwpk"
      }
    },
    {
      "cell_type": "code",
      "source": [
        "#@title Defined globals\n",
        "model_name=\"llama3\" #@param {type: \"string\"}  The name of the LLM.\n",
        "debug=True #@param {type: \"boolean\"}\n",
        "model_endpoint=\"http://localhost:11434/api/generate\" #The endpoint for the LLM's API.\n",
        "\n",
        "import requests\n",
        "import json"
      ],
      "metadata": {
        "cellView": "form",
        "id": "vxtKuS08Vfds"
      },
      "execution_count": null,
      "outputs": []
    },
    {
      "cell_type": "markdown",
      "source": [
        "##Install and start ollama, then pull the model."
      ],
      "metadata": {
        "id": "RW6RMlD9x-0h"
      }
    },
    {
      "cell_type": "code",
      "source": [
        "#@title Install ollama\n",
        "!curl -fsSL https://ollama.com/install.sh | sh\n"
      ],
      "metadata": {
        "cellView": "form",
        "id": "IKJj3XJJiZ42"
      },
      "execution_count": null,
      "outputs": []
    },
    {
      "cell_type": "code",
      "source": [
        "#@title Start ollama\n",
        "import multiprocessing\n",
        "import os\n",
        "import time\n",
        "\n",
        "def run_ollama():\n",
        "    print(f\"Running ollama on PID {os.getpid()}\")\n",
        "    os.system('ollama serve')\n",
        "\n",
        "ollama_process = multiprocessing.Process(target=run_ollama)\n",
        "ollama_process.start()\n",
        "time.sleep(10)"
      ],
      "metadata": {
        "cellView": "form",
        "id": "sNjWUYhumKAJ"
      },
      "execution_count": null,
      "outputs": []
    },
    {
      "cell_type": "code",
      "source": [
        "!ollama pull $model_name"
      ],
      "metadata": {
        "id": "38Gc5pSAkl6n"
      },
      "execution_count": null,
      "outputs": []
    },
    {
      "cell_type": "code",
      "source": [
        "#@title Test ollama connection\n",
        "!curl http://localhost:11434"
      ],
      "metadata": {
        "cellView": "form",
        "id": "zvYmkUVisKtI"
      },
      "execution_count": null,
      "outputs": []
    },
    {
      "cell_type": "code",
      "execution_count": null,
      "metadata": {
        "id": "_ugsDvqzOvbT"
      },
      "outputs": [],
      "source": [
        "#@title Defined functions\n",
        "# prompt: Write a function that takes a dictionary prompt and sends a request to an LLM's API. The output is given in dictionary.\n",
        "\n",
        "def query_llm(prompt):\n",
        "  global model_endpoint,model_name\n",
        "\n",
        "  headers = {\n",
        "      \"Content-Type\": \"application/json\",\n",
        "  }\n",
        "  data = {\n",
        "      \"model\": model_name,\n",
        "      \"prompt\": prompt,\n",
        "      \"stream\": False\n",
        "  }\n",
        "\n",
        "  answer = requests.post(model_endpoint, headers=headers, json=data)\n",
        "\n",
        "  if answer.status_code == 200:\n",
        "    try:\n",
        "      answer_dict = json.loads(answer.content)\n",
        "    except json.JSONDecodeError as e:\n",
        "      print(f\"Error decoding JSON: {e}\")\n",
        "      return None\n",
        "    return answer_dict[\"response\"].replace(\"\\n\", \" \")\n",
        "  else:\n",
        "    print(f\"Error: {answer.status_code}\")\n",
        "    return None\n"
      ]
    },
    {
      "cell_type": "markdown",
      "source": [
        "## Write the book"
      ],
      "metadata": {
        "id": "n6cMh4A1yKtF"
      }
    },
    {
      "cell_type": "code",
      "source": [
        "#@title Create the outline and chapters\n",
        "# prompt: Pick a random literary genre. Send a request to an LLM to write an outline for a three-act story in the selected genre. For each act, write a list of chapters along with descriptions/summaries for each chapter.\n",
        "\n",
        "import random\n",
        "\n",
        "genres = [\"fantasy\", \"sci-fi\", \"mystery\", \"romance\", \"horror\", \"thriller\", \"historical fiction\", \"western\", \"dystopian\"]\n",
        "random_genre = random.choice(genres)\n",
        "print(f\"Random genre: {random_genre}\")\n",
        "print(\"\")\n",
        "\n",
        "prompt = \"\"\"\n",
        "Write an outline for a three-act story in the {random_genre} genre. For each act, write a list of chapters along with descriptions/summaries for each chapter. Provide your answer in the following JSON format:\n",
        "{ \"act1\": { \"chapter1\": { \"description\": \"Description of chapter 1\", \"subsections\": [] }, \"chapter2\": { \"description\": \"Description of chapter 2\", \"subsections\": [] }, ... }, \"act2\": { \"chapter6\": { \"description\": \"Description of chapter 6\", \"subsections\": [] }, \"chapter7\": { \"description\": \"Description of chapter 7\", \"subsections\": [] }, ... }, ... }\n",
        "Do not provide any additional information outside of the JSON result.\n",
        "\"\"\"\n",
        "\n",
        "response = query_llm(prompt) + \" }\"\n",
        "try:\n",
        "  story = json.loads(response)\n",
        "except json.JSONDecodeError as e:\n",
        "  print(f\"Error decoding JSON: {e}\")\n",
        "  story = None\n",
        "if debug:\n",
        "  print(json.dumps(story,indent=2))"
      ],
      "metadata": {
        "cellView": "form",
        "id": "zReg60BfUwAY"
      },
      "execution_count": null,
      "outputs": []
    },
    {
      "cell_type": "code",
      "source": [
        "#@title Add sections to chapters\n",
        "# prompt: Break up each chapter in dictionary \"story\" into 3 to 5 sub-sections that fit the chapter summary and add them as a list under their respective chapters\n",
        "\n",
        "def break_chapter_into_sections(chapter_summary):\n",
        "  \"\"\"Breaks a chapter summary into 3-5 sub-sections.\"\"\"\n",
        "\n",
        "  prompt = f\"\"\"\n",
        "  Break the following chapter summary into 3-5 sub-sections, each section progessing the story within that chapter.\n",
        "  Provide your answer in a list the following JSON format:\n",
        "  [\"section 1 description\", \"section 2 description\", ...]\n",
        "  Do not forget the commas between each section description. Do not title the sections. Do not provide any additional information outside of the JSON result.\n",
        "\n",
        "  Chapter Summary: {chapter_summary}\n",
        "  \"\"\"\n",
        "\n",
        "  response = query_llm(prompt)\n",
        "  return response\n",
        "\n",
        "for act in story.keys():\n",
        "  if debug:\n",
        "    print(\"==> Act: \"+str(act))\n",
        "  for chapter in story[act].keys():\n",
        "    if debug:\n",
        "      print(\"====> Chapter: \"+str(chapter))\n",
        "      print(\"      \"+story[act][chapter]['description'])\n",
        "    sections_text = break_chapter_into_sections(story[act][chapter]['description'])\n",
        "    if sections_text[-1] != ']':\n",
        "      sections_text += \" ]\"\n",
        "    story[act][chapter]['subsections'] = json.loads(sections_text)\n",
        "    for i in range(len(story[act][chapter]['subsections'])):\n",
        "      if debug:\n",
        "        print(\"--> \"+str(i))\n",
        "        print(story[act][chapter]['subsections'][i])\n",
        "        print(\"\")"
      ],
      "metadata": {
        "cellView": "form",
        "id": "8uPnMKDTYC0Q"
      },
      "execution_count": null,
      "outputs": []
    }
  ]
}